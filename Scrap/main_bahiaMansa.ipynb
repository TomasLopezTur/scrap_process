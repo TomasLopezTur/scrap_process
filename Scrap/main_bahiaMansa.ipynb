{
 "cells": [
  {
   "cell_type": "code",
   "execution_count": 1,
   "metadata": {},
   "outputs": [],
   "source": [
    "import time\n",
    "import os\n",
    "from selenium import webdriver\n",
    "from selenium.webdriver.chrome.service import Service\n",
    "from dotenv import load_dotenv\n",
    "from datetime import datetime, timedelta\n",
    "import csv"
   ]
  },
  {
   "cell_type": "code",
   "execution_count": 2,
   "metadata": {},
   "outputs": [],
   "source": [
    "# Función para ajustar la fecha\n",
    "def ajustar_fecha(fecha):\n",
    "    current_year = datetime.now().year\n",
    "    parts = fecha.split('-')\n",
    "    \n",
    "    if len(parts) == 3:\n",
    "        year, month, day = parts\n",
    "        return f\"{day}-{month}-{year}\"\n",
    "    elif len(parts) == 2:\n",
    "        month, day = parts\n",
    "        return f\"{day}-{month}-{current_year}\"\n",
    "    elif \"Hace\" in fecha:\n",
    "        # Convertir el texto \"Hace X día(s)\" en una fecha\n",
    "        cantidad_dias = int(fecha.split()[1])\n",
    "        fecha_hace_dias = datetime.now() - timedelta(days=cantidad_dias)\n",
    "        return fecha_hace_dias.strftime(\"%d-%m-%Y\")\n",
    "    else:\n",
    "        return fecha  # Devuelve la fecha original si no se puede ajustar\n",
    "\n",
    "# Función para formatear las vistas (views) en números completos\n",
    "def formatear_vistas(vistas):\n",
    "    if vistas.endswith('K'):\n",
    "        views_number = float(vistas[:-1]) * 1000\n",
    "    elif vistas.endswith('M'):\n",
    "        views_number = float(vistas[:-1]) * 1000000\n",
    "    else:\n",
    "        views_number = float(vistas)\n",
    "    return str(int(views_number))\n"
   ]
  },
  {
   "cell_type": "code",
   "execution_count": 3,
   "metadata": {},
   "outputs": [],
   "source": [
    "# Cargar las variables de entorno desde el archivo .env\n",
    "load_dotenv()\n",
    "\n",
    "# Obtener la ruta al Chrome WebDriver desde la variable de entorno\n",
    "chrome_driver_path = os.getenv('config_chromedrive')"
   ]
  },
  {
   "cell_type": "code",
   "execution_count": 4,
   "metadata": {},
   "outputs": [],
   "source": [
    "service = Service(executable_path=chrome_driver_path)\n",
    "\n",
    "# Configurar las opciones del navegador\n",
    "options = webdriver.ChromeOptions()\n",
    "options.headless = False  # Cambia a True si deseas que el navegador sea invisible\n",
    "\n",
    "# Inicializar el WebDriver\n",
    "driver = webdriver.Chrome(service=service, options=options)\n",
    "\n",
    "# URL de la página web a scrapear\n",
    "urlI = os.getenv('url_mansaI')\n",
    "urlII = os.getenv('url_mansaII')\n",
    "\n",
    "# Navegar a la URL\n",
    "driver.get(urlII)\n",
    "\n",
    "time.sleep(15)  # Esperar a que se cargue la página\n",
    "\n",
    "scrolls = 4\n",
    "\n",
    "for _ in range(scrolls):\n",
    "    # Ejecuta JavaScript para hacer scroll hacia abajo en la página\n",
    "    driver.execute_script(\"window.scrollTo(0, document.body.scrollHeight);\")\n",
    "    \n",
    "    # Espera un breve momento para que el contenido se cargue después del scroll\n",
    "    time.sleep(15)\n",
    "    \n",
    "time.sleep(15)"
   ]
  },
  {
   "cell_type": "code",
   "execution_count": 5,
   "metadata": {},
   "outputs": [
    {
     "name": "stdout",
     "output_type": "stream",
     "text": [
      "Fecha: 26-8-2022, Usuario: florscovenna_, Descripción: 🗺BAHIA MANSA en VLA📍 es soñada🤩 #villalaangostura #patagoniaargentina, Vistas: 27900, Hashtags: #villalaangostura #patagoniaargentina   \n",
      "Fecha: 16-12-2023, Usuario: thiagof.okk, Descripción: Bahia manza, villa la angostura 🤍 #villalaangostura #viral #parati #pyf, Vistas: 1276, Hashtags: #villalaangostura #viral #parati #pyf       \n",
      "Fecha: 29-2-2024, Usuario: aby.avg, Descripción: Apreciando ando ✨🤍#patagoniaargentina #villalaangostura #bahiamansa, Vistas: 860, Hashtags: #patagoniaargentina #villalaangostura #bahiamansa\n",
      "Fecha: 21-8-2022, Usuario: luchicasim, Descripción: 🤩😮 La Casa más cara de Villa La Angostura📍#venta #inmobiliaria #argentina #realstate, Vistas: 51500, Hashtags: #venta #inmobiliaria #argentina #realstate     \n",
      "Fecha: 5-1-2024, Usuario: karladf6, Descripción: Bahía Mansa Villa Angostura 📍 Argentina 🫶✨ #bahiamansavillalaangostura, Vistas: 902, Hashtags: #bahiamansavillalaangostura\n",
      "Fecha: 11-9-2023, Usuario: vivamoslapatagonia, Descripción: Unos mates en Bahía Mansa? Si venis a Villa la Angostura no podes dejar de conocer esta belleza de lugar‼️ Somos Maru y Mau y te mostramos lo que vivimos a diario en la patagonia 🇦🇷 Seguimos en Instagram donde somos una comunidad de 66k 👉🏽 Si te gustó compartilo 📲 y ♥️ 👉🏽 Guardalo 💾 👉🏽 Cuidemos el 🌎 ……………………………..…………………………. 🙌🏼 Se parte de la solución, no de la contaminación ⚠️Si vas y volves con tu 📱 anda y volvé con tu basura🚯👉🏽 🚮♻️ ……………………………..…………………………. #parati #tiktok #viajar #viajaresvivir #paraiso #lago #playa #montañas, Vistas: 124000, Hashtags:                         \n",
      "Fecha: 18-2-2024, Usuario: vivamoslapatagonia, Descripción: Villa La Angostura y sus paisajes tan hermosos!!! 📍Bahía Manzano Somos Maru y Mau y te mostramos lo que vivimos a diario en la patagonia 🇦🇷 Seguinos en Instagram donde somos una comunidad de 153k 👉🏽 Si te gustó compartilo 📲 y ♥️ 👉🏽 Guardalo 💾 👉🏽 Cuidemos el 🌎 ……………………………..…………………………. 🙌🏼 Se parte de la solución, no de la contaminación ⚠️Si vas y volves con tu 📱 anda y volvé con tu basura🚯👉🏽 🚮♻️ ……………………………..…………………………. #parati #tiktok #viajar #viajaresvivir #paraiso #lago #playa #montañas #villalaango, Vistas: 4113, Hashtags:                        \n",
      "Fecha: 16-3-2024, Usuario: mapiatersol, Descripción: #sur #argentina #villalaangostura #paisajes #bahiamansa, Vistas: 725, Hashtags: #sur #argentina #villalaangostura #paisajes #bahiamansa\n",
      "Fecha: 15-1-2021, Usuario: pasaje.en.mano, Descripción: Recién subí una GUÍA DE VILLA LA ANGOSTURA A MI IG ❤️ esto es Bahía manzano 🙃, Vistas: 13700, Hashtags:  \n",
      "Fecha: 24-1-2024, Usuario: viajandojuntosamerica, Descripción: Mirador Bahía Mansa. Uno de los lugares imperdibles al visitar Villa la Angostura es su mirador natural. Hicimos un corto trekking y llegamos a una de las mejores vistas de la patagonia Argentina., Vistas: 1028, Hashtags:     \n",
      "Fecha: 10-3-2024, Usuario: gabrielcris23, Descripción: Bahia mansa - villa la angostura #sur #patagoniaargentina #patagonia, Vistas: 553, Hashtags: #sur #patagoniaargentina #patagonia \n",
      "Fecha: 13-8-2021, Usuario: melocontaron.ok, Descripción: Bahía Mansa - Villa La Angostura #villalaangostura #patagoniaargentina, Vistas: 2085, Hashtags: #villalaangostura #patagoniaargentina      \n"
     ]
    }
   ],
   "source": [
    "container_xpath = '//div[contains(@class, \"css-1soki6-DivItemContainerForSearch\") and contains(@class, \"e19c29qe10\")]'\n",
    "\n",
    "try:\n",
    "    # Encontrar todos los elementos dentro del contenedor principal\n",
    "    elements = driver.find_elements(by='xpath', value=container_xpath)\n",
    "    \n",
    "    # Crear un archivo CSV llamado 'bahia_mansa.csv'\n",
    "    with open('Scrap/Data/bahia_mansa.csv', 'w', newline='', encoding='utf-8') as csvfile:\n",
    "        writer = csv.writer(csvfile)\n",
    "        \n",
    "        # Escribir encabezados en el archivo CSV\n",
    "        writer.writerow(['Fecha', 'Usuario', 'Descripción', 'Vistas', 'Hashtags'])\n",
    "        \n",
    "        # Iterar sobre cada elemento dentro del contenedor\n",
    "        for element in elements:\n",
    "                try:\n",
    "                    # Extraer los datos específicos dentro de cada elemento\n",
    "                    fecha = element.find_element(by='xpath', value='.//div[contains(@class, \"css-dennn6-DivTimeTag\") and contains(@class, \"e19c29qe15\")]').text\n",
    "                    usuario = element.find_element(by='xpath', value='.//p[contains(@class, \"css-2zn17v-PUniqueId\") and contains(@class, \"etrd4pu6\")]').text\n",
    "                    descripcion = element.find_element(by='xpath', value='.//div[contains(@class, \"css-1iy6zew-DivContainer\") and contains(@class, \"ejg0rhn0\")]').text\n",
    "                    vistas = element.find_element(by='xpath', value='.//strong[contains(@class, \"css-ws4x78-StrongVideoCount\") and contains(@class, \"etrd4pu10\")]').text\n",
    "                    \n",
    "                    # Extraer los hashtags\n",
    "                    hashtag_elements = element.find_elements(by='xpath', value='.//strong[contains(@class, \"css-1p6dp51-StrongText\") and contains(@class, \"ejg0rhn2\")]')\n",
    "                    hashtags = [hashtag_element.text for hashtag_element in hashtag_elements]\n",
    "                    hashtags_str = ' '.join(hashtags)\n",
    "                    \n",
    "                    # Ajustar la fecha y formatear las vistas\n",
    "                    fecha = ajustar_fecha(fecha)\n",
    "                    vistas = formatear_vistas(vistas)\n",
    "                    \n",
    "                    # Escribir la fila en el archivo CSV\n",
    "                    writer.writerow([fecha, usuario, descripcion, vistas, hashtags_str])\n",
    "                    \n",
    "                    # Mostrar información en la consola\n",
    "                    print(f\"Fecha: {fecha}, Usuario: {usuario}, Descripción: {descripcion}, Vistas: {vistas}, Hashtags: {hashtags_str}\")\n",
    "                except Exception as e:\n",
    "                    print(\"Error al extraer datos:\", e)\n",
    "except Exception as e:\n",
    "    print(\"Error:\", e)\n",
    "\n",
    "finally:\n",
    "    # Cerrar el navegador al finalizar\n",
    "    driver.quit()"
   ]
  }
 ],
 "metadata": {
  "kernelspec": {
   "display_name": "Python 3",
   "language": "python",
   "name": "python3"
  },
  "language_info": {
   "codemirror_mode": {
    "name": "ipython",
    "version": 3
   },
   "file_extension": ".py",
   "mimetype": "text/x-python",
   "name": "python",
   "nbconvert_exporter": "python",
   "pygments_lexer": "ipython3",
   "version": "3.12.2"
  }
 },
 "nbformat": 4,
 "nbformat_minor": 2
}
